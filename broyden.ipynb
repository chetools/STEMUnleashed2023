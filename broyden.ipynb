{
  "nbformat": 4,
  "nbformat_minor": 0,
  "metadata": {
    "colab": {
      "provenance": [],
      "authorship_tag": "ABX9TyM2uJpRDk+36KViFhz30rKR",
      "include_colab_link": true
    },
    "kernelspec": {
      "name": "python3",
      "display_name": "Python 3"
    },
    "language_info": {
      "name": "python"
    }
  },
  "cells": [
    {
      "cell_type": "markdown",
      "metadata": {
        "id": "view-in-github",
        "colab_type": "text"
      },
      "source": [
        "<a href=\"https://colab.research.google.com/github/profteachkids/STEMUnleashed2023/blob/main/broyden.ipynb\" target=\"_parent\"><img src=\"https://colab.research.google.com/assets/colab-badge.svg\" alt=\"Open In Colab\"/></a>"
      ]
    },
    {
      "cell_type": "code",
      "execution_count": null,
      "metadata": {
        "id": "BGr6g48kw4g9"
      },
      "outputs": [],
      "source": [
        "import jax.numpy as jnp\n",
        "import jax\n",
        "from jax import config\n",
        "config.update(\"jax_enable_x64\", True)"
      ]
    },
    {
      "cell_type": "code",
      "source": [
        "def fun(x):\n",
        "    return jnp.array([x[0]  + 0.5 * (x[0] - x[1])**3 - 1.0,\n",
        "            0.5 * (x[1] - x[0])**3 + x[1]])"
      ],
      "metadata": {
        "id": "85lAriUrw8Am"
      },
      "execution_count": null,
      "outputs": []
    },
    {
      "cell_type": "code",
      "source": [
        "fjac=jax.jacobian(fun)"
      ],
      "metadata": {
        "id": "2ZCt5ZnlxE7w"
      },
      "execution_count": null,
      "outputs": []
    },
    {
      "cell_type": "code",
      "source": [
        "v0=jnp.array([0.8,0.5])\n",
        "fun(v0)"
      ],
      "metadata": {
        "colab": {
          "base_uri": "https://localhost:8080/"
        },
        "id": "nJbtWUxGxMqa",
        "outputId": "a247a878-e601-465a-f674-961e99b14349"
      },
      "execution_count": null,
      "outputs": [
        {
          "output_type": "execute_result",
          "data": {
            "text/plain": [
              "Array([-0.1865,  0.4865], dtype=float64)"
            ]
          },
          "metadata": {},
          "execution_count": 31
        }
      ]
    },
    {
      "cell_type": "code",
      "source": [
        "f0 = fun(v0)\n",
        "for i in range(10):\n",
        "    v1 = v0 - jnp.linalg.inv(fjac(v0)) @ f0\n",
        "    f1 = fun(v1)\n",
        "    v0 = v1\n",
        "    f0 = f1\n",
        "    print(v1)\n"
      ],
      "metadata": {
        "colab": {
          "base_uri": "https://localhost:8080/"
        },
        "id": "9XPed8UrxO2l",
        "outputId": "85069736-2a29-44cb-db7e-90483ae9197b"
      },
      "execution_count": null,
      "outputs": [
        {
          "output_type": "stream",
          "name": "stdout",
          "text": [
            "[0.91496063 0.08503937]\n",
            "[0.84948359 0.15051641]\n",
            "[0.8412807 0.1587193]\n",
            "[0.84116393 0.15883607]\n",
            "[0.8411639 0.1588361]\n",
            "[0.8411639 0.1588361]\n",
            "[0.8411639 0.1588361]\n",
            "[0.8411639 0.1588361]\n",
            "[0.8411639 0.1588361]\n",
            "[0.8411639 0.1588361]\n"
          ]
        }
      ]
    },
    {
      "cell_type": "code",
      "source": [],
      "metadata": {
        "id": "WTEfM__G1uCC"
      },
      "execution_count": null,
      "outputs": []
    }
  ]
}