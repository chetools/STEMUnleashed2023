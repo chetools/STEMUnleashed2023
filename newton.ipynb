{
  "nbformat": 4,
  "nbformat_minor": 0,
  "metadata": {
    "colab": {
      "provenance": [],
      "authorship_tag": "ABX9TyOUmZ/i4GYKeBdEIhuEZ/hP",
      "include_colab_link": true
    },
    "kernelspec": {
      "name": "python3",
      "display_name": "Python 3"
    },
    "language_info": {
      "name": "python"
    }
  },
  "cells": [
    {
      "cell_type": "markdown",
      "metadata": {
        "id": "view-in-github",
        "colab_type": "text"
      },
      "source": [
        "<a href=\"https://colab.research.google.com/github/profteachkids/STEMUnleashed2023/blob/main/newton.ipynb\" target=\"_parent\"><img src=\"https://colab.research.google.com/assets/colab-badge.svg\" alt=\"Open In Colab\"/></a>"
      ]
    },
    {
      "cell_type": "code",
      "execution_count": 1,
      "metadata": {
        "id": "pDtp-UmamcBe"
      },
      "outputs": [],
      "source": [
        "import numpy as np\n",
        "from plotly.subplots import make_subplots"
      ]
    },
    {
      "cell_type": "code",
      "source": [
        "def f(x):\n",
        "    return 0.2*(x-0.8)*(x-0.3)*(x+0.4)*(x+0.9)"
      ],
      "metadata": {
        "id": "ue78IvnkmeYX"
      },
      "execution_count": 2,
      "outputs": []
    },
    {
      "cell_type": "code",
      "source": [
        "def deriv(f, x, h=1e-7):\n",
        "    return (f(x+h)-f(x))/h"
      ],
      "metadata": {
        "id": "qzXrMX0yn0zp"
      },
      "execution_count": 3,
      "outputs": []
    },
    {
      "cell_type": "code",
      "source": [
        "def newton(fun, x0, maxiter=100, xtol=1e-10, ftol=1e-12):\n",
        "    xold = x0\n",
        "    fold = fun(xold)\n",
        "    fprimeold = deriv(fun, xold)\n",
        "    for i in range(maxiter):\n",
        "        delta_x= - fold/fprimeold\n",
        "        xnew = xold + delta_x\n",
        "        fnew = fun(xnew)\n",
        "        if abs(delta_x)<xtol or abs(fnew)<ftol:\n",
        "            break\n",
        "        print(f\"iter: {i:3d}, x: {xnew:8.4f}, f: {fnew: 8.4e}\")\n",
        "        fold = fnew\n",
        "        xold = xnew\n",
        "    return xnew, fnew"
      ],
      "metadata": {
        "id": "mzTfaJWlmpUK"
      },
      "execution_count": 18,
      "outputs": []
    },
    {
      "cell_type": "code",
      "source": [
        "newton(f, 0.45)"
      ],
      "metadata": {
        "colab": {
          "base_uri": "https://localhost:8080/"
        },
        "id": "U_tzU713pPQW",
        "outputId": "9370c667-4bf2-4e3f-f6d4-be222a0b56ea"
      },
      "execution_count": 19,
      "outputs": [
        {
          "output_type": "stream",
          "name": "stdout",
          "text": [
            "iter:   0, x:   0.2754, f:  2.0506e-03\n",
            "iter:   1, x:   0.3051, f: -4.2888e-04\n",
            "iter:   2, x:   0.2989, f:  9.3742e-05\n",
            "iter:   3, x:   0.3002, f: -2.0352e-05\n",
            "iter:   4, x:   0.2999, f:  4.4256e-06\n",
            "iter:   5, x:   0.3000, f: -9.6203e-07\n",
            "iter:   6, x:   0.3000, f:  2.0914e-07\n",
            "iter:   7, x:   0.3000, f: -4.5465e-08\n",
            "iter:   8, x:   0.3000, f:  9.8838e-09\n",
            "iter:   9, x:   0.3000, f: -2.1486e-09\n",
            "iter:  10, x:   0.3000, f:  4.6710e-10\n",
            "iter:  11, x:   0.3000, f: -1.0154e-10\n",
            "iter:  12, x:   0.3000, f:  2.2075e-11\n",
            "iter:  13, x:   0.3000, f: -4.7988e-12\n"
          ]
        },
        {
          "output_type": "execute_result",
          "data": {
            "text/plain": [
              "(0.29999999998758065, 1.043224839843919e-12)"
            ]
          },
          "metadata": {},
          "execution_count": 19
        }
      ]
    },
    {
      "cell_type": "code",
      "source": [
        "for p in range(15):\n",
        "    h=10**(-p)\n",
        "    fprime = deriv(np.exp,0.,h)\n",
        "    print(f\"{h:8.5e} {fprime:15.12f}\")"
      ],
      "metadata": {
        "colab": {
          "base_uri": "https://localhost:8080/"
        },
        "id": "Ed_3VYeppRWs",
        "outputId": "d2a75bde-c2b3-497a-9b24-0be100fa6799"
      },
      "execution_count": 24,
      "outputs": [
        {
          "output_type": "stream",
          "name": "stdout",
          "text": [
            "1.00000e+00  1.718281828459\n",
            "1.00000e-01  1.051709180756\n",
            "1.00000e-02  1.005016708417\n",
            "1.00000e-03  1.000500166708\n",
            "1.00000e-04  1.000050001667\n",
            "1.00000e-05  1.000005000007\n",
            "1.00000e-06  1.000000499962\n",
            "1.00000e-07  1.000000049434\n",
            "1.00000e-08  0.999999993923\n",
            "1.00000e-09  1.000000082740\n",
            "1.00000e-10  1.000000082740\n",
            "1.00000e-11  1.000000082740\n",
            "1.00000e-12  1.000088900582\n",
            "1.00000e-13  0.999200722163\n",
            "1.00000e-14  0.999200722163\n"
          ]
        }
      ]
    },
    {
      "cell_type": "code",
      "source": [
        "def fder(f, h=1e-8):\n",
        "    def fprime(x):\n",
        "        return (f(x+h)-f(x))/h\n",
        "\n",
        "    return fprime\n",
        ""
      ],
      "metadata": {
        "id": "AwtYngl_qzor"
      },
      "execution_count": 25,
      "outputs": []
    },
    {
      "cell_type": "code",
      "source": [
        "sinderiv=fder(np.sin)"
      ],
      "metadata": {
        "id": "0fQxeXWktPHy"
      },
      "execution_count": 26,
      "outputs": []
    },
    {
      "cell_type": "code",
      "source": [
        "sinderiv(np.pi/3)"
      ],
      "metadata": {
        "colab": {
          "base_uri": "https://localhost:8080/"
        },
        "id": "tZZlMzQUtdbd",
        "outputId": "cac5157e-e6df-4b9b-9c3a-cdb527b290f7"
      },
      "execution_count": 27,
      "outputs": [
        {
          "output_type": "execute_result",
          "data": {
            "text/plain": [
              "0.4999999969612645"
            ]
          },
          "metadata": {},
          "execution_count": 27
        }
      ]
    },
    {
      "cell_type": "code",
      "source": [
        "cosderiv=fder(np.cos)\n",
        "cosderiv(np.pi/3)"
      ],
      "metadata": {
        "colab": {
          "base_uri": "https://localhost:8080/"
        },
        "id": "069aJ0BytfC-",
        "outputId": "55367485-e56c-46fc-efe4-7ce26434ef71"
      },
      "execution_count": 28,
      "outputs": [
        {
          "output_type": "execute_result",
          "data": {
            "text/plain": [
              "-0.8660254013914681"
            ]
          },
          "metadata": {},
          "execution_count": 28
        }
      ]
    },
    {
      "cell_type": "code",
      "source": [],
      "metadata": {
        "id": "pw_2LeZ7tl24"
      },
      "execution_count": null,
      "outputs": []
    }
  ]
}